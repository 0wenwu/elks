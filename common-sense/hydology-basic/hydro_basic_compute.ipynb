{
 "cells": [
  {
   "cell_type": "markdown",
   "metadata": {},
   "source": [
    "# 常用基本计算\n",
    "\n",
    "在日常科研学习工作中有一些计算，比如统计计算，是很常遇到的，这里日常积累做些记录以备后用。\n",
    "\n",
    "## NSE\n",
    "\n",
    "NSE 全名 Nash–Sutcliffe model efficiency coefficient，用来评价水文模型的预测能力，原文可以参考：[River flow forecasting through conceptual models part I — A discussion of principles](https://www.sciencedirect.com/science/article/pii/0022169470902556)。这里根据维基百科[Nash–Sutcliffe model efficiency coefficient](https://en.wikipedia.org/wiki/Nash%E2%80%93Sutcliffe_model_efficiency_coefficient)做一些记录。\n",
    "\n",
    "先上公式：\n",
    "$$NSE=1-\\frac{\\sum _{t=1}^{T} (Q_m^t - Q_m^t)^2}{\\sum _{t=1}^T (Q_o^t -\\overline{Q_o})^2}$$\n",
    "$Q_o$是观测径流平均值，$Q_m$是模拟径流。$Q_o^t$是t时段径流。\n",
    "\n",
    "NSE值范围$-\\infty$至1，NSE=1 表示模拟值和观测值非常匹配。NSE=0则表明模型预测和观测均值一致。而NSE为负数则说明观测均值都比模拟值效果好，即模拟与观测的residual variance 比 径流本身的方差还大。总之，越接近1，说明预测越好。0.5<NSE<0.65可以算是一个足够好的预测NSE的范围。\n",
    "\n",
    "当模拟是回归时，NSE和$R^2$等价。\n",
    "\n",
    "NSE对极值比较敏感，因此离群值影响较大。\n",
    "\n",
    "纳什效率可以用来定量描述模型输出的准确性，而不仅仅是流量。只要有观测数据，并与模型结果进行比较，该指标可用于描述其他模型的预测精度。\n",
    "\n",
    "下面给出二维的NSE计算方式。每行表示不同的时间，每列表示不同的站点。"
   ]
  },
  {
   "cell_type": "code",
   "execution_count": 3,
   "metadata": {},
   "outputs": [
    {
     "data": {
      "text/plain": [
       "array([[0.72209182, 0.21352318, 0.62410322, 0.389707  ],\n",
       "       [0.89507492, 0.75888337, 0.34669306, 0.40842543],\n",
       "       [0.14654104, 0.46812356, 0.13435416, 0.76889576],\n",
       "       [0.31079085, 0.84641048, 0.76140257, 0.94652568],\n",
       "       [0.09716227, 0.27537252, 0.67535365, 0.50391768],\n",
       "       [0.87018306, 0.82371468, 0.15580497, 0.22831284]])"
      ]
     },
     "execution_count": 3,
     "metadata": {},
     "output_type": "execute_result"
    }
   ],
   "source": [
    "import numpy as np\n",
    "sim = np.random.rand(6,4)\n",
    "sim"
   ]
  },
  {
   "cell_type": "code",
   "execution_count": 4,
   "metadata": {},
   "outputs": [
    {
     "data": {
      "text/plain": [
       "array([[0.55331267, 0.48772107, 0.26298621, 0.86993086],\n",
       "       [0.83876898, 0.31892878, 0.07505383, 0.47556347],\n",
       "       [0.91504126, 0.53631456, 0.79054552, 0.52907441],\n",
       "       [0.00748106, 0.1855167 , 0.32326133, 0.69029544],\n",
       "       [0.50406595, 0.48948671, 0.73682538, 0.59250742],\n",
       "       [0.16226021, 0.92901116, 0.45750459, 0.05923551]])"
      ]
     },
     "execution_count": 4,
     "metadata": {},
     "output_type": "execute_result"
    }
   ],
   "source": [
    "obs = np.random.rand(6,4)\n",
    "obs"
   ]
  },
  {
   "cell_type": "markdown",
   "metadata": {},
   "source": [
    "先求每个站点的观测均值，注意尽量不要用循环，for会使运算变慢。"
   ]
  },
  {
   "cell_type": "code",
   "execution_count": 6,
   "metadata": {},
   "outputs": [
    {
     "data": {
      "text/plain": [
       "array([0.49682169, 0.49116316, 0.44102948, 0.53610118])"
      ]
     },
     "execution_count": 6,
     "metadata": {},
     "output_type": "execute_result"
    }
   ],
   "source": [
    "obs_mean=np.mean(obs,axis=0)\n",
    "obs_mean"
   ]
  },
  {
   "cell_type": "markdown",
   "metadata": {},
   "source": [
    "然后扩展为同样shape的数组，以做减法运算（也可以广播）"
   ]
  },
  {
   "cell_type": "code",
   "execution_count": 7,
   "metadata": {},
   "outputs": [
    {
     "data": {
      "text/plain": [
       "array([[0.49682169, 0.49116316, 0.44102948, 0.53610118],\n",
       "       [0.49682169, 0.49116316, 0.44102948, 0.53610118],\n",
       "       [0.49682169, 0.49116316, 0.44102948, 0.53610118],\n",
       "       [0.49682169, 0.49116316, 0.44102948, 0.53610118],\n",
       "       [0.49682169, 0.49116316, 0.44102948, 0.53610118],\n",
       "       [0.49682169, 0.49116316, 0.44102948, 0.53610118]])"
      ]
     },
     "execution_count": 7,
     "metadata": {},
     "output_type": "execute_result"
    }
   ],
   "source": [
    "obs_means=np.tile(obs_mean, (obs.shape[0],1))\n",
    "obs_means"
   ]
  },
  {
   "cell_type": "markdown",
   "metadata": {},
   "source": [
    "接着做减法并求平方，然后每列各自求和："
   ]
  },
  {
   "cell_type": "code",
   "execution_count": 16,
   "metadata": {},
   "outputs": [
    {
     "data": {
      "text/plain": [
       "array([0.64646491, 0.31684862, 0.38943503, 0.36951484])"
      ]
     },
     "execution_count": 16,
     "metadata": {},
     "output_type": "execute_result"
    }
   ],
   "source": [
    "denominator=np.sum((obs-obs_means)**2, axis=0)\n",
    "denominator"
   ]
  },
  {
   "cell_type": "markdown",
   "metadata": {},
   "source": [
    "分子部分先计算obs和sim的差值，然后平方，并每列各自求和："
   ]
  },
  {
   "cell_type": "code",
   "execution_count": 17,
   "metadata": {},
   "outputs": [
    {
     "data": {
      "text/plain": [
       "array([1.38097153, 0.76710736, 0.92154964, 0.39472597])"
      ]
     },
     "execution_count": 17,
     "metadata": {},
     "output_type": "execute_result"
    }
   ],
   "source": [
    "numerator = np.sum((obs-sim)**2, axis=0)\n",
    "numerator"
   ]
  },
  {
   "cell_type": "markdown",
   "metadata": {},
   "source": [
    "然后是element-wise相除："
   ]
  },
  {
   "cell_type": "code",
   "execution_count": 18,
   "metadata": {},
   "outputs": [
    {
     "data": {
      "text/plain": [
       "array([2.13618948, 2.42105318, 2.36637586, 1.06822765])"
      ]
     },
     "execution_count": 18,
     "metadata": {},
     "output_type": "execute_result"
    }
   ],
   "source": [
    "quotient = numerator/denominator\n",
    "quotient"
   ]
  },
  {
   "cell_type": "markdown",
   "metadata": {},
   "source": [
    "构造一个1向量，然后相减即可"
   ]
  },
  {
   "cell_type": "code",
   "execution_count": 21,
   "metadata": {},
   "outputs": [
    {
     "data": {
      "text/plain": [
       "array([-1.13618948, -1.42105318, -1.36637586, -0.06822765])"
      ]
     },
     "execution_count": 21,
     "metadata": {},
     "output_type": "execute_result"
    }
   ],
   "source": [
    "my_ones=np.ones(obs.shape[1])\n",
    "NSE=my_ones-quotient\n",
    "NSE"
   ]
  },
  {
   "cell_type": "markdown",
   "metadata": {},
   "source": [
    "以上就是NSE的计算方法。"
   ]
  }
 ],
 "metadata": {
  "kernelspec": {
   "display_name": "Python 3",
   "language": "python",
   "name": "python3"
  },
  "language_info": {
   "codemirror_mode": {
    "name": "ipython",
    "version": 3
   },
   "file_extension": ".py",
   "mimetype": "text/x-python",
   "name": "python",
   "nbconvert_exporter": "python",
   "pygments_lexer": "ipython3",
   "version": "3.7.4"
  }
 },
 "nbformat": 4,
 "nbformat_minor": 4
}
