{
 "cells": [
  {
   "cell_type": "markdown",
   "metadata": {},
   "source": [
    "# Budyko简介\n",
    "\n",
    "Budyko，虽然国内工程水文教材上没有怎么提及它，但是在很多文献中都有涉及，首先这是个人名，然后伴随其的是一系列名词，Budyko hypothesis, Budyko curve, Budyko equation, Budyko model等等。本文就围绕这些名词展开以快速地了解下基本内容。\n",
    "\n",
    "## Budyko\n",
    "\n",
    "这部分内容摘自维基百科[Mikhail Budyko](https://en.wikipedia.org/wiki/Mikhail_Budyko)。\n",
    "\n",
    "Mikhail Ivanovich Budyko是前苏联，俄罗斯的气候学家，是 physical climatology奠基人之一。他开创地利用能量平衡研究全球气候和地球温度计算，其书籍Heat Balance of the Earth's Surface是将气候学从定性分析转向定量计算的标志性著作。\n",
    "\n",
    "关于Budyko有一些有趣的故事，根据这篇[blog](https://zhuanlan.zhihu.com/p/40391203)，1966年，Budyko借助计算机模型指出，在温度下降十分剧烈的时候，冰或雪的覆盖范围一旦超过纬度30°这个阈值，就会引发不可逆转的降温，并导致地球表面完全冻结。冰层的白色表面能够反射超过60%的阳光，如果地球上接收太阳光最多的地区反射率上升，地球的温度也难以回升，进入了不断降温的恶性循环，它的表面将完全冻结，这让人想起来一个冰封世界的灾难片－－后天。根据另一篇[文章](https://zhuanlan.zhihu.com/p/66697421)，Budyko还率先就工业系统不断燃烧化石燃料将不可避免地加速全球气候变化发出了一系列警告。虽然人类活动会导致气候快速变化早已得到认可，但重要的是布迪科新发现了气候反馈机制，例如北极冰川融化，如果冰川减少，冰川对太阳辐射的反射就会减少，地球吸收的太阳辐射量就会增加，全球平均温度会提高。1974年，布迪科提出，作为气候变化的可能解决方案，使用高空飞机将硫颗粒（形成硫酸盐气溶胶）释放到平流层。这是在模仿火山活动推动硫气进入大气层，从而形成局部屏障，限制进入地球的太阳辐射。布迪科认为，资本主义经济以资本积累为基础，尽管存在对气候的危险，但资本主义经济无法限制对能源的使用和排放。因此，必须探索稳定气候的技术替代方案。\n",
    "\n",
    "奇闻轶事就到这里，接下来重点了解下水文相关的理论。\n",
    "\n",
    "## Budyko hypothesis\n",
    "\n",
    "根据文献[The Budyko hypothesis before Budyko: The hydrological legacy of Evald Oldekop](https://doi.org/10.1016/j.jhydrol.2016.02.002)所述，在水文领域, the Budyko hypothesis 指的是地表长期水和能量平衡很大程度上取决于a single aridity ratio：$\\phi = E_x/P$\n",
    "其中，P表示长期precipitation，单位mm/yr，$E_x$ 表示长期maximum evaporation，单位mm/yr。这里说的长期long-term通常指的是decade，更好的是指three decades。因为这样可以忽略流域storage dynamics (both soil moisture and ground water)以及estimate E based on measured catchment streamflow and precipitation. 这时，$\\phi = E_x/P$就变得有用了，表示 the aridity ratio，其倒数$P/E_x$称为the humidity ratio.\n",
    "\n",
    "根据文献[The use of the aridity index to assess climate change effect on annual runoff](https://doi.org/10.1016/S0022-1694(02)00101-4)所述，Available energy (通常expressed in terms of potential evaporation)和 precipitation很大程度上决定了一个区域的annual evapotranspiration 和 runoff rates. 有一些研究用annual potential evaporation 与 precipitation 的比值，即the aridity index(by Budyko), 来描述流域the evaporation ratio (the ratio of annual evapotranspiration to precipitation)  from **a range of climatic regimes**. 这表明aridity index 能单独用来获取 an estimate of ratio of standard deviation of annual evapotranspiration estimates to that of precipitation (the evaporation deviation ratio)\n",
    "\n",
    "这里稍作总结，首先补充一下关于蒸发的一些基础知识。这一小部分主要参考了[Methods of estimating potential and actual evaporation](https://www.researchgate.net/file.PostFileLoader.html?id=58b6feb8f7b67e3dc71ca3c1&assetKey=AS%3A467146313605122%401488387768864)（注意点击即下载了）。这篇小文章主要介绍了经典的potential 和 actual evaporation的估算方法，以帮助快速了解蒸发背后的知识。先看定义，The evaporation plus transpiration from a vegetated surface with unlimited water supply is known as potential evaporation or potential evapotranspiration (PE). 这表示了在prevailing meteorological conditions下的最大可能蒸散发率，因此PE就是实际蒸发$E_t$ 的最大值 ： $PE=E_t$ 当water supply is unlimited. 而实际蒸发就是正常一天地表水的蒸发量。对PE就常用的测量方式是irrigated lysimeter，中文叫测渗计，详情可google。很多情况下，PE是计算得来的，比如著名的Penman公式，详情可google。计算实际蒸发有常用的Penman-Monteith公式，测量实际蒸发的仪器有percolation gauge。\n",
    "\n",
    "根据以上内容，简单归纳，就是说水文上研究一个流域的水和能平衡时，很重要的就是研究降雨和蒸发，而在长期范围内，$E_x/P$ 对蒸发率有指示性的作用。而这种作用的一个代表性理论就是Budyko hypothesis。\n",
    "\n",
    "根据文献[Improving Budyko curve‐based estimates of long‐term water partitioning using hydrologic signatures from GRACE](https://doi.org/10.1002/2016WR018748)所述，Budyko hypothesis描述了长期范围内降水P在蒸发E和径流Q之间的分配：\n",
    "$$\\frac{E}{P}=f(\\frac{E_p}{P})$$\n",
    "即$E/P$是$E_p/P$的函数,$E_p/P$就是前文提到的potential evaporation与precipitation之间的比值，即 the aridity ratio. 这里面的f就是Budyko曲线了。\n",
    "\n",
    "## Budyko curve\n",
    "\n",
    "回到前面所讲的EP与P的比值，EP通常会用demand来指代，意指区域的蒸发需求，表达的是available energy，蒸发是有潜热的，所以是energy；对应的P常用supply指代，意思是大自然能提供的水分。这种供需关系指示了流域水热循环的特点，如果供需比较大，那么对于一定量的降雨，径流更可能超过蒸发，反之则径流少，这对流域中长期的径流预报是有指导意义的。\n",
    "\n",
    "具体看看EP与P的关系，在供需比很小的地方，蒸发是接近降水的，反之，蒸发是接近潜在蒸发的。这两个值即P和EP值被available water和available energy限制。\n",
    "\n",
    "回来到Budyko curve，根据前文所述，就是f，那么f曲线是如何定义的呢？如前所述，定义f的一个指标就是the aridity ratio，而这个指标是和 climatic regimes紧密相关的，比如干旱，半干旱，半湿润，湿润。因此，Budyko曲线实际上是一系列climatic regimes代表的曲线簇。至于其具体的数学表达，有很多形式。\n",
    "\n",
    "根据文献[New analytical derivation of the mean annual water‐energy balance equation](https://doi.org/10.1029/2007WR006135)，流域尺度长期的The coupled water‐energy balance能用 a set of partial differential equations 表示, 且其有通解形式－－ $E/P = F(E_0/P, c)$, where c is a parameter. 参数$(P,E_0,E)$的状态空间是$P - E_0 - E$三维空间中的一组曲面，这组曲面在$E/P - E_0/P$二维空间的投影即是Budyko-type的曲线。这篇文章的详细内容和数学推导等以后有时间再看，因为本文意在科普了解，所以暂略了。"
   ]
  }
 ],
 "metadata": {
  "kernelspec": {
   "display_name": "Python 3",
   "language": "python",
   "name": "python3"
  },
  "language_info": {
   "codemirror_mode": {
    "name": "ipython",
    "version": 3
   },
   "file_extension": ".py",
   "mimetype": "text/x-python",
   "name": "python",
   "nbconvert_exporter": "python",
   "pygments_lexer": "ipython3",
   "version": "3.7.4"
  }
 },
 "nbformat": 4,
 "nbformat_minor": 2
}
