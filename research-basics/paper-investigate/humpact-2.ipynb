{
 "cells": [
  {
   "cell_type": "markdown",
   "metadata": {},
   "source": [
    "# Impacts of reservoirs to streamflow\n",
    "\n",
    "收集整理一些水库影响径流相关的文献等资料。\n",
    "\n",
    "## Classifying the Complexity of Coupled Energy-Water-Land Systems in the United States\n",
    "\n",
    "参考：AGU 一个poster， 来自PNNL的 [Classifying the Complexity of Coupled Energy-Water-Land Systems in the United States](https://agu.confex.com/agu/fm19/meetingapp.cgi/Paper/607924)\n",
    "\n",
    "这个poster主要讨论的是对 the vulnerability of coupled human-natural systems (e.g., energy, water, land) 建模，因为该系统是一个复杂系统，因为其非线性及反馈性，其行为表现是不容易预测。 模拟这样的复杂度需要耦合详细的基于物理过程的跨区域范围的模型。比如一个流域的能量－水－土地系统需要通过合适尺度的水文和水资源管理模型耦合土地利用，灌溉和电网等模型来表达。 这类模型是计算复杂耗时的，并会带来这样的问题: 这样的知识究竟有多少是可以迁移到其他地方的？有什么结论是可以为其他地方的耦合系统能够借鉴的？ 科学家怎么选择研究方向以使有限的资源发挥最大的科学价值？ \n",
    "\n",
    "这篇文章基于这样一个假说：**teleconnections** (i.e., distal relationships) are an emergent property of these complex systems，开发了一种耦合 human-natural systems across the U.S. \n",
    "\n",
    "比如，一个简单的系统可能是一个有自己独有的区域流域供水供电的城市，在 energy-water dimensions上它是 zero teleconnections 的. 而一个高度复杂的系统可能是 一个有多个远程流域供水以生活，市政，农业，能源等应用的城市, 并且其电力设备运行是在一个依赖于远程水电和热电发电的水供应的市场上。\n",
    "\n",
    "利用高分辨率的来自公开来源的地理空间数据,包括城市饮用水源流域地区,土地利用和土地覆盖地区的灌溉需求,和需要用水的发电的位置，这篇文章根据总数,多样性,远距离联系的强度和尺度，识别和分析超过100个在美国的互联energy-water-land网络，并对它们进行了分类。\n",
    "\n",
    "## Incorporating reservoir operations in long-term integrated human-Earth system models\n",
    "\n",
    "参考 AGU 一个 oral [Incorporating reservoir operations in long-term integrated human-Earth system models (Invited)](https://agu.confex.com/agu/fm19/meetingapp.cgi/Paper/539668)。\n",
    "\n",
    "21世纪开始，世界上超过一半河流都有大坝，并且到2030年，这个数字预计会增加到90%。即使发达国家都已经建设差不多了，不过随着大型水电大坝数量预计到2030年将增加近一倍，新一轮大坝建设浪潮正在兴起。 因此，理解水库扩建对满足未来能源、水、土地和农产品需求的影响，它们如何改变贸易、食品价格和能源投资需求，以及它们如何改变不同地区对气候变化的脆弱性，仍然是有待研究的问题. 这里使用了一个长期的耦合 human-Earth 系统的模型 －－ GCAM 来分析这些问题。该模型包含了一个一致的经济框架下的 人口，经济增长，能源，土地和水资源的相互关系。 这个talk主要关注于如何有效地考虑 reservoir storage and expansion pathways in GCAM 以及它们随时间的管理应用变化。 分析了与Shared Socioeconomic Pathways (SSPs)一致的水库扩展的多个场景，并评估了水库在减轻未来预计的气候变化条件下缺水条件以及包含人类系统和他们的经济实现的角色.\n",
    "\n",
    "## Inferred inflow forecast horizons guiding reservoir release decisions across the United States\n",
    "\n",
    "这篇是预报对水库下泄的影响分析，除了文章本身，也可以关注水库相关的数据。和AGU 上这个poster应该是一致的：[Inferring the forecast-use signatures of 300 dams across Western United States](https://agu-do03.confex.com/agu/fm19/meetingapp.cgi/Paper/600772)\n",
    "\n",
    "Medium to long-range forecasts are expected to guide reservoir release decisions to support water management objectives, including mitigating flood and drought risks. Yet consistent data describing how and when forecasts are applied in practice remains undeveloped. This lack of knowledge hinders our ability to develop adequate models of reservoirs operations, which are required for a variety of applications including large-scale hydrology models as well as models used to generate forecasts of regulated flows. We address this issue by estimating seasonally-varying forecast use signatures for more than 300 dams located predominantly in Western United States. We take actual forward observed reservoir inflows as a proxy for the forecast available to the operator, and then identify for each week of the year the forward horizon that results in the closest piecewise relationship between release and forecasted water availability (current reservoir storage plus cumulative future inflow). Resulting \"forecast-use signatures\" specify for each dam the estimated forecast horizon used by the operator for each week of the water year. These data not only shed light on the nature and extent of forecast use at existing dams. They also unlock significant improvements in our ability to capture operator behavior in simulation, including under flood and drought conditions. This is demonstrated using a 1/8th degree distributed hydrology model of the Columbia River Basin.\n",
    "\n",
    "## An indicator system for assessing the impact of human activities on river structure\n",
    "\n",
    "这篇文章为了分析人类活动的影响，给出了一套指标。包括：\n",
    "\n",
    "![](table1.png)\n",
    "\n",
    "都是针对河流结构 river structure 的指标，基于对自然因素和人为因素的比较。简单说下指标－－河长，连接度，曲度，sediment量等。\n",
    "\n",
    "接下来看下结论，随着经济发展，Nanliu 河流域的河道结构已经深刻变化了。经济最好的几个区域的流域河道需要恢复，对于功能退化的水利设施，需要拆除。\n",
    "\n",
    "## On the representation of water reservoir storage and operations in large-scale hydrological models: implications on model parameterization and climate change impact assessments\n",
    "\n",
    "这篇文章主要分析了在VIC中加不加水库的一些影响，通过计算发现，有没有水库模块都能很好地率定出结果，这说明，在没有水库模块时，参数的调整也能起到一些代替水库的作用，比如土壤参数，而当输入气候变化时，有没有水库的模型演算的结果是不一样的，且在不同的气候模式下，这种不一致是差不多的，这就是说参数其实也并没有起到真正的替代作用，而且这种问题应该是确实存在的。\n",
    "\n",
    "这点在机器学习计算中，可能也是存在的，比如有没有某些参数，神经网络都能很好的拟合历史径流。这样的结果就值得注意了，这些参数究竟有没有体现真是过程，体现了多少是值得留意的。"
   ]
  }
 ],
 "metadata": {
  "kernelspec": {
   "display_name": "Python 3",
   "language": "python",
   "name": "python3"
  },
  "language_info": {
   "codemirror_mode": {
    "name": "ipython",
    "version": 3
   },
   "file_extension": ".py",
   "mimetype": "text/x-python",
   "name": "python",
   "nbconvert_exporter": "python",
   "pygments_lexer": "ipython3",
   "version": "3.7.4"
  }
 },
 "nbformat": 4,
 "nbformat_minor": 4
}
