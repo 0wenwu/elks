{
 "cells": [
  {
   "cell_type": "markdown",
   "metadata": {
    "collapsed": false
   },
   "source": [
    "# 了解卡方分布\n",
    "\n",
    "卡方分布\n",
    "\n",
    "## 一些例子\n",
    "为了理解卡方检验，先给出几个例子：\n",
    "\n",
    "研究你研究了两组人，你把他们分成三个类别，单身、已婚和离婚：\n",
    "三个类别的数据是不同的，但是 ……\n",
    "- 这是不是随机的？\n",
    "- 还是真有实质的不同？\n",
    "\n",
    "再比如：\"你喜欢哪种度假方式？\"\n",
    " \n",
    "|-|沙滩\t|邮轮|\n",
    "|-|-|-|\n",
    "|男|  209|\t280|\n",
    "|女 | 225|\t248|\n",
    " \n",
    "性别对度假方式的偏爱有影响吗？如果性别（男或女）真的对度假方式的偏爱有影响，它们便是相依的。\n",
    "如果我们用一个算法计算出一个“p”值为一个数，假设0.132。通常会令p<0.05时代表变量是相依的。由于这里大于0.05，因此说明变量是独立的，即男人和女人对沙滩和邮轮独家的偏爱是没区别的。\n",
    "\n",
    "再比如：你喜欢哪种动物？\n",
    "\n",
    " |-|猫|\t狗|\n",
    " |-|-|-|\n",
    " |男\t|207\t|282|\n",
    " |女\t|231\t|242|\n",
    "\n",
    "算法（在下面解释）的结果是：P值是 0.043。这意味着结果是显著的，变量不独立。即我们认为性别与宠物偏爱有关联。\n",
    "\n",
    "所以卡方检验是一个敏感的测试。\n",
    "\n",
    "## 了解p值\n",
    "\n",
    "\"p\" 是变量是独立的概率。\n",
    "\n",
    "为什么p<0.05?\n",
    "\n",
    "因为这只是一种选择，是一种惯例。\n",
    "\n",
    "如何计算p值？\n",
    "\n",
    "使用卡方检验！（用上面最后一个例子说明）\n",
    "\n",
    "- 注意卡方检验只适用于分类数据；\n",
    "- 数据的值需要较大时才合适。\n",
    "\n",
    "### 1.声明假设\n",
    "\n",
    "假设需要是一个可能是真的陈述，并且可以验证的。\n",
    "\n",
    "在我们的例子里有两个假设：\n",
    "\n",
    "- 性别对猫或狗的偏爱是独立的\n",
    "- 性别对猫或狗的偏爱不是独立的\n",
    "\n",
    "### 2. 计算卡方\n",
    " (1)设A代表某个类别的观察频数，E代表基于H0计算出的期望频数，A与E之差称为残差。\n",
    " (2)显然，残差可以表示某一个类别观察值和理论值的偏离程度，但如果将残差简单相加以表示各类别观察频数与期望频数的差别，则有一定的不足之处。因为残差有正有负，相加后会彼此抵消，总和仍然为0，为此可以将残差平方后求和。\n",
    " (3)另一方面，残差大小是一个相对的概念，相对于期望频数为10时，期望频数为20的残差非常大，但相对于期望频数为1 000时20的残差就很小了。考虑到这一点，人们又将残差平方除以期望频数再求和，以估计观察频数与期望频数的差别。\n",
    " 进行上述操作之后，就得到了常用的χ2统计量。\n",
    " "
   ]
  },
  {
   "cell_type": "code",
   "execution_count": 9,
   "outputs": [],
   "source": [
    "men={\"cat\":207,\"dog\":282}\n",
    "women={\"cat\":231,\"dog\":242}\n",
    "\n",
    "# 行列分别求和\n",
    "men_sum=sum(men.values())\n",
    "women_sum=sum(women.values())\n",
    "cat_sum=men[\"cat\"]+women[\"cat\"]\n",
    "dog_sum=men[\"dog\"]+women[\"dog\"]\n",
    "\n",
    "all_sum=men_sum+women_sum\n",
    "\n",
    "# 求每项的“期望值”，行的和乘以列的和，再除以全部和\n",
    "men_cat=men_sum*cat_sum/all_sum\n",
    "women_cat=women_sum*cat_sum/all_sum\n",
    "men_dog=men_sum*dog_sum/all_sum\n",
    "women_dog=women_sum*dog_sum/all_sum\n",
    "\n",
    "# 从实际值减去期望值，取平方，再除以期望值\n",
    "men_cat_chi2=(men[\"cat\"]-men_cat)**2/men_cat\n",
    "women_cat_chi2=(women[\"cat\"]-women_cat)**2/women_cat\n",
    "men_dog_chi2=(men[\"dog\"]-men_dog)**2/men_dog\n",
    "women_dog_chi2=(women[\"dog\"]-women_dog)**2/women_dog\n",
    "\n",
    "# 求和计算卡方\n",
    "all_chi2=men_cat_chi2+women_cat_chi2+men_dog_chi2+women_dog_chi2\n"
   ],
   "metadata": {
    "collapsed": false,
    "pycharm": {
     "name": "#%%\n",
     "is_executing": false
    }
   }
  },
  {
   "cell_type": "markdown",
   "source": [
    "### 3.由卡方计算p值\n",
    "\n",
    "由卡方的值来求p值是一个复杂的算法，要根据卡方分布进行求解。\n",
    "\n",
    "首先，要计算自由度\n"
   ],
   "metadata": {
    "collapsed": false,
    "pycharm": {
     "name": "#%% md\n"
    }
   }
  },
  {
   "cell_type": "code",
   "execution_count": null,
   "outputs": [],
   "source": [
    "# 自由度就是(行数 − 1) 乘以 (列数 − 1)\n",
    "row_num=2\n",
    "column_num=2\n",
    "dof=(row_num-1)*(column_num-1)\n"
   ],
   "metadata": {
    "collapsed": false,
    "pycharm": {
     "name": "#%%\n"
    }
   }
  },
  {
   "cell_type": "markdown",
   "source": [
    "p值是怎么求的？这就需要了解卡方分布了。\n",
    "\n",
    "## 卡方分布\n",
    "\n",
    "这部分主要参考：<https://www.zhihu.com/question/20358827/answer/386269824>\n",
    "\n",
    "假设实验中从总体中随机取样得到的n个**观察值**（随机将色子抛n次）被划分为k个**互斥的分类**（分类为色子点数，1-6点），\n",
    "这样每个分类（每个点数）都有一个对应的实际观察次数**Xi**{ i=1,2,...,k}。\n",
    "研究人员会对实验中各个观察值落入第 i个分类（色子在那个点数）的概率Pi的分布提出零假设\n",
    "（认为观测值与理论值的差异是由于随机误差所致，就是其概率是等于理论上的概率，相当于色子的频率等于我们理论得出概率），\n",
    "从而获得了对应所有第i分类的**理论期望次数**$m_i$以及限制条件。\n",
    "\n",
    "$\\Sigma_{i=1}^k p_i =1$\n",
    "以及\n",
    "$\\Sigma_{i=1}^k m_i =\\Sigma_{i=1}^k x_i =n$\n",
    "\n",
    "皮尔森提出，在上述零假设成立以及n趋向无穷大的时候，以下统计量的极限分布趋向卡方分布。\n",
    "\n",
    "$\\chi^2=\\Sigma_{i=1}^k \\frac{(x_i-m_i)^2}{m_i}$\n",
    "\n",
    "（推导略）\n",
    "\n",
    "## 总结\n",
    " \n",
    "卡方检验是一种用途很广的计数资料的假设检验方法。它属于非参数检验的范畴，主要是比较两个及两个以上样本率(构成比）以及两个分类变量的关联性分析。其根本思想就是在于比较理论频数和实际频数的吻合程度或拟合优度问题。\n",
    "\n",
    "卡方检验的基本思想：\n",
    "\n",
    "卡方检验是以χ2分布为基础的一种常用假设检验方法，它的无效假设H0是：观察频数与期望频数没有差别。\n",
    "\n",
    "首先假设H0成立，基于此前提计算出χ2值，它表示观察值与理论值之间的偏离程度。\n",
    "\n",
    "根据χ2分布及自由度可以确定在H0假设成立的情况下获得当前统计量及更极端情况的概率P。\n",
    "\n",
    "如果P值很小，说明观察值与理论值偏离程度太大，应当拒绝无效假设，表示比较资料之间有显著差异；\n",
    "否则就不能拒绝无效假设，尚不能认为样本所代表的实际情况和理论假设有差别。\n",
    "\n",
    "实际计算时可使用numpy中的chi_contingency函数。\n"
   ],
   "metadata": {
    "collapsed": false,
    "pycharm": {
     "name": "#%% md\n"
    }
   }
  },
  {
   "cell_type": "code",
   "execution_count": 15,
   "metadata": {
    "collapsed": false,
    "pycharm": {
     "name": "#%%\n",
     "is_executing": false
    }
   },
   "outputs": [],
   "source": [
    "import numpy as np\n",
    "from scipy.stats import chi2_contingency\n",
    "\n",
    "d = np.array([[207,282], [231, 242]])\n",
    "chi2=chi2_contingency(d)\n",
    "\n"
   ]
  }
 ],
 "nbformat": 4,
 "nbformat_minor": 2,
 "metadata": {
  "language_info": {
   "name": "python",
   "codemirror_mode": {
    "name": "ipython",
    "version": 3
   }
  },
  "orig_nbformat": 2,
  "file_extension": ".py",
  "mimetype": "text/x-python",
  "name": "python",
  "npconvert_exporter": "python",
  "pygments_lexer": "ipython3",
  "version": 3,
  "kernelspec": {
   "name": "python3",
   "language": "python",
   "display_name": "Python 3"
  },
  "pycharm": {
   "stem_cell": {
    "cell_type": "raw",
    "source": [],
    "metadata": {
     "collapsed": false
    }
   }
  }
 }
}