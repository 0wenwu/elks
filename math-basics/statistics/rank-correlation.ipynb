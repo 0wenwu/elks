{
 "cells": [
  {
   "cell_type": "markdown",
   "metadata": {
    "collapsed": true,
    "pycharm": {
     "name": "#%% md\n"
    }
   },
   "source": [
    "\n",
    "# Nonparametric Rank Correlation\n",
    "\n",
    "本文主要结合下文对秩次相关的概念进行分析：<https://machinelearningmastery.com/how-to-calculate-nonparametric-rank-correlation-in-python/>\n",
    "\n",
    "两个变量之间关系很重要的度量方式就是Correlation。当不知道两个变量的分布时，要衡量correlation就需要非参数的秩次相关法了。\n",
    "\n",
    "## Rank Correlation\n",
    "\n",
    "变量之间的相关性就不赘述了。相关系数是一个重要指标，用来度量变量之间的相关性。\n",
    "\n",
    "计算符合高斯分布的两个变量的相关系数可以直接使用Pearson's correlation。为什么要正态分布？\n",
    "\n",
    "适用于那些地方。\n",
    "\n",
    "1、存在性：先说原理，这个系数是通过原点矩来定义的（然而原点矩又是什么鬼？不懂的太多了），作者说二元概率分布的总体协方差以及变量边缘总体反差必须是有意义且非零的。\n",
    "\n",
    "2、大样本性：在二元正态分布中，若已知变量的边缘分布的均值和标准差，那么由Pearson相关系数就可以完全确定该分布的特性。言外之意，就是说服从正态分布才行啊。不论变量之间的联合概率密度函数是不是正态的，Pearson相关系数都是用来衡量两个随机变量之间的线性相关程度的。对于二元正态数据，样本的相关系数是总体相关系数的极大似然估计，并且具有渐进无偏性和有效性，也即是说在数据来自正态分布，且样本大小适中或是足够大的时候，不可能构造一个比样本相关相关系数更加精确的量来估计变量之间的相关性。对于非正态总体，样本相关系数依然是渐进无偏的，但是可能不是有效的估计。只要样本均值、方差、协方差是一致的（可以通过应用大数定律来保证），样本相关系数是总体相关系数的一个一致估计量。\n",
    "\n",
    "听了半天，感觉是这么个意思，服从正态分布的数据计算出的相关系数，结果是可靠的。那不服从正态分布的呢？你可以用来计算，只不过别当真啊。于是啊，满足正态性、方差齐、大样的数据更适用Pearson系数。\n",
    "\n",
    "该系数受资料分布的影响，还对对异常值敏感，挺不靠谱的。检验资料的适用性很重要。只有在数据是近似正态分布的时候，基于Fisher变换的精确检验和近似检验才能被采用，否则就可能导致错误的结论。\n",
    "\n",
    "不服从从正态分布怎么办？用非参数检验啊，但是这也依赖于数据的互换性，在没有特定的顺序或是数据可供分析时，可能影响相关估计的行为。\n",
    "\n",
    "秩次相关是指对变量数值排序后，顺序数之间的相关性。是ordinal relationship。ordinal data之间的relationship。\n",
    "\n",
    "因为没有假设数据的分布，因此秩次相关是一种非参数相关分析方法。秩次相关经常作为其他假设检验的基础。比如判断两个样本是否可能来自相同(或不同)的总体分布。\n",
    "\n",
    "有几种常用的方法：\n",
    "\n",
    "- Spearman’s Rank Correlation.\n",
    "- Kendall’s Rank Correlation.\n",
    "- Goodman and Kruskal’s Rank Correlation.\n",
    "- Somers’ Rank Correlation.\n",
    "\n",
    "## 例子\n",
    "\n",
    "a simple two-variable dataset where each variable is drawn from a uniform distribution (e.g. non-Gaussian) and the values of the second variable depend on the values of the first value.\n"
   ]
  },
  {
   "cell_type": "code",
   "execution_count": 1,
   "outputs": [
    {
     "data": {
      "text/plain": "<Figure size 640x480 with 1 Axes>"
     },
     "metadata": {},
     "output_type": "display_data"
    }
   ],
   "source": [
    "# generate related variables\n",
    "from numpy.random import rand\n",
    "from numpy.random import seed\n",
    "from matplotlib import pyplot\n",
    "# seed random number generator\n",
    "seed(1)\n",
    "# prepare data\n",
    "data1 = rand(1000) * 20\n",
    "data2 = data1 + (rand(1000) * 10)\n",
    "# plot\n",
    "pyplot.scatter(data1, data2)\n",
    "pyplot.show()\n"
   ],
   "metadata": {
    "collapsed": false,
    "pycharm": {
     "name": "#%%\n",
     "is_executing": false
    }
   }
  }
 ],
 "metadata": {
  "language_info": {
   "codemirror_mode": {
    "name": "ipython",
    "version": 2
   },
   "file_extension": ".py",
   "mimetype": "text/x-python",
   "name": "python",
   "nbconvert_exporter": "python",
   "pygments_lexer": "ipython2",
   "version": "2.7.6"
  },
  "kernelspec": {
   "name": "python3",
   "language": "python",
   "display_name": "Python 3"
  },
  "pycharm": {
   "stem_cell": {
    "cell_type": "raw",
    "source": [],
    "metadata": {
     "collapsed": false
    }
   }
  }
 },
 "nbformat": 4,
 "nbformat_minor": 0
}